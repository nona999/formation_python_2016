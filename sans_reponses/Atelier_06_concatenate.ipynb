{
 "cells": [
  {
   "cell_type": "markdown",
   "metadata": {},
   "source": [
    "# Manipulation de ndarray dans numpy"
   ]
  },
  {
   "cell_type": "markdown",
   "metadata": {},
   "source": [
    "## concatenation de tableau\n",
    "\n",
    "Tres importante manipulation des donnees, on passe son temps a mettre des colonnes de data provenant de sources differentes ensemble\n",
    "\n",
    "la syntaxe de la fonction concatenate est la suivante:\n",
    "\n",
    "concatenate([a,b,c],axis)\n",
    "\n",
    "[a,b,c] est une liste (ou autres iterables) pouvant contenir autant d'element a concatener que l'on veut\n",
    "\n",
    "*axis est la dimension selon laquelle on veut concatener:*\n",
    "\n",
    "par exemple:\n"
   ]
  },
  {
   "cell_type": "code",
   "execution_count": 1,
   "metadata": {
    "collapsed": false
   },
   "outputs": [
    {
     "name": "stdout",
     "output_type": "stream",
     "text": [
      "[0 1 2 0 1 2 3 4]\n"
     ]
    }
   ],
   "source": [
    "import numpy as np\n",
    "\n",
    "a = np.arange(3)\n",
    "b = np.arange(5)\n",
    "\n",
    "c = np.concatenate((a,b)) ### on concatene selon la premiere dimension\n",
    "\n",
    "print(c)"
   ]
  },
  {
   "cell_type": "code",
   "execution_count": 2,
   "metadata": {
    "collapsed": false
   },
   "outputs": [
    {
     "name": "stdout",
     "output_type": "stream",
     "text": [
      "(6, 4, 5)\n"
     ]
    }
   ],
   "source": [
    "### en multi dimension, on precise axis\n",
    "\n",
    "a = np.ones((3,4,5))\n",
    "b = np.ones((3,4,5))\n",
    "\n",
    "c = np.concatenate((a,b),axis = 0) ### on concatene selon la premiere dimension\n",
    "\n",
    "print(c.shape)"
   ]
  },
  {
   "cell_type": "code",
   "execution_count": 3,
   "metadata": {
    "collapsed": false
   },
   "outputs": [
    {
     "name": "stdout",
     "output_type": "stream",
     "text": [
      "(3, 8, 5)\n"
     ]
    }
   ],
   "source": [
    "\n",
    "c = np.concatenate((a,b),axis = 1) ### on concatene selon la deuxieme dimension\n",
    "\n",
    "print(c.shape)"
   ]
  },
  {
   "cell_type": "code",
   "execution_count": 4,
   "metadata": {
    "collapsed": false
   },
   "outputs": [
    {
     "name": "stdout",
     "output_type": "stream",
     "text": [
      "[[[ 0  1  2  3  4]\n",
      "  [ 5  6  7  8  9]\n",
      "  [10 11 12 13 14]\n",
      "  [15 16 17 18 19]]\n",
      "\n",
      " [[20 21 22 23 24]\n",
      "  [25 26 27 28 29]\n",
      "  [30 31 32 33 34]\n",
      "  [35 36 37 38 39]]\n",
      "\n",
      " [[40 41 42 43 44]\n",
      "  [45 46 47 48 49]\n",
      "  [50 51 52 53 54]\n",
      "  [55 56 57 58 59]]]\n"
     ]
    }
   ],
   "source": [
    "a_1 = np.array(np.arange(3*4*5)).reshape(3,4,5) ### liste des 60 premiers indexes\n",
    "\n",
    "print(a_1)\n"
   ]
  },
  {
   "cell_type": "code",
   "execution_count": 5,
   "metadata": {
    "collapsed": false
   },
   "outputs": [
    {
     "name": "stdout",
     "output_type": "stream",
     "text": [
      "[[[60 61 62]\n",
      "  [63 64 65]\n",
      "  [66 67 68]\n",
      "  [69 70 71]]\n",
      "\n",
      " [[72 73 74]\n",
      "  [75 76 77]\n",
      "  [78 79 80]\n",
      "  [81 82 83]]\n",
      "\n",
      " [[84 85 86]\n",
      "  [87 88 89]\n",
      "  [90 91 92]\n",
      "  [93 94 95]]]\n"
     ]
    }
   ],
   "source": [
    "\n",
    "\n",
    "b_1 = np.array(np.arange(3*4*3)).reshape(3,4,3) + 60 \n",
    "\n",
    "print(b_1)"
   ]
  },
  {
   "cell_type": "code",
   "execution_count": 6,
   "metadata": {
    "collapsed": false
   },
   "outputs": [
    {
     "ename": "ValueError",
     "evalue": "all the input array dimensions except for the concatenation axis must match exactly",
     "output_type": "error",
     "traceback": [
      "\u001b[1;31m---------------------------------------------------------------------------\u001b[0m",
      "\u001b[1;31mValueError\u001b[0m                                Traceback (most recent call last)",
      "\u001b[1;32m<ipython-input-6-bb3a8bdec263>\u001b[0m in \u001b[0;36m<module>\u001b[1;34m()\u001b[0m\n\u001b[0;32m      1\u001b[0m \u001b[1;33m\u001b[0m\u001b[0m\n\u001b[1;32m----> 2\u001b[1;33m \u001b[0mc_0\u001b[0m \u001b[1;33m=\u001b[0m \u001b[0mnp\u001b[0m\u001b[1;33m.\u001b[0m\u001b[0mconcatenate\u001b[0m\u001b[1;33m(\u001b[0m\u001b[1;33m(\u001b[0m\u001b[0ma_1\u001b[0m\u001b[1;33m,\u001b[0m\u001b[0mb_1\u001b[0m\u001b[1;33m)\u001b[0m\u001b[1;33m,\u001b[0m\u001b[0maxis\u001b[0m \u001b[1;33m=\u001b[0m \u001b[1;36m0\u001b[0m\u001b[1;33m)\u001b[0m \u001b[1;31m### on concatene selon la premiere dimension (~ profondeur)\u001b[0m\u001b[1;33m\u001b[0m\u001b[0m\n\u001b[0m\u001b[0;32m      3\u001b[0m \u001b[1;33m\u001b[0m\u001b[0m\n\u001b[0;32m      4\u001b[0m \u001b[1;31m### ca ne marche pas\u001b[0m\u001b[1;33m\u001b[0m\u001b[1;33m\u001b[0m\u001b[0m\n",
      "\u001b[1;31mValueError\u001b[0m: all the input array dimensions except for the concatenation axis must match exactly"
     ]
    }
   ],
   "source": [
    "\n",
    "c_0 = np.concatenate((a_1,b_1),axis = 0) ### on concatene selon la premiere dimension (~ profondeur)\n",
    "\n",
    "### ca ne marche pas "
   ]
  },
  {
   "cell_type": "code",
   "execution_count": 7,
   "metadata": {
    "collapsed": false
   },
   "outputs": [
    {
     "ename": "ValueError",
     "evalue": "all the input array dimensions except for the concatenation axis must match exactly",
     "output_type": "error",
     "traceback": [
      "\u001b[1;31m---------------------------------------------------------------------------\u001b[0m",
      "\u001b[1;31mValueError\u001b[0m                                Traceback (most recent call last)",
      "\u001b[1;32m<ipython-input-7-f17d6cabcc3f>\u001b[0m in \u001b[0;36m<module>\u001b[1;34m()\u001b[0m\n\u001b[1;32m----> 1\u001b[1;33m \u001b[0mc_1\u001b[0m \u001b[1;33m=\u001b[0m \u001b[0mnp\u001b[0m\u001b[1;33m.\u001b[0m\u001b[0mconcatenate\u001b[0m\u001b[1;33m(\u001b[0m\u001b[1;33m(\u001b[0m\u001b[0ma_1\u001b[0m\u001b[1;33m,\u001b[0m\u001b[0mb_1\u001b[0m\u001b[1;33m)\u001b[0m\u001b[1;33m,\u001b[0m\u001b[0maxis\u001b[0m \u001b[1;33m=\u001b[0m \u001b[1;36m1\u001b[0m\u001b[1;33m)\u001b[0m \u001b[1;31m### on concatene selon la deuxieme dimension (~ hauteur)\u001b[0m\u001b[1;33m\u001b[0m\u001b[0m\n\u001b[0m\u001b[0;32m      2\u001b[0m \u001b[1;33m\u001b[0m\u001b[0m\n\u001b[0;32m      3\u001b[0m \u001b[1;31m### ca ne marche\u001b[0m\u001b[1;33m\u001b[0m\u001b[1;33m\u001b[0m\u001b[0m\n",
      "\u001b[1;31mValueError\u001b[0m: all the input array dimensions except for the concatenation axis must match exactly"
     ]
    }
   ],
   "source": [
    "c_1 = np.concatenate((a_1,b_1),axis = 1) ### on concatene selon la deuxieme dimension (~ hauteur)\n",
    "\n",
    "### ca ne marche "
   ]
  },
  {
   "cell_type": "code",
   "execution_count": 8,
   "metadata": {
    "collapsed": false
   },
   "outputs": [
    {
     "name": "stdout",
     "output_type": "stream",
     "text": [
      "[[[ 0  1  2  3  4 60 61 62]\n",
      "  [ 5  6  7  8  9 63 64 65]\n",
      "  [10 11 12 13 14 66 67 68]\n",
      "  [15 16 17 18 19 69 70 71]]\n",
      "\n",
      " [[20 21 22 23 24 72 73 74]\n",
      "  [25 26 27 28 29 75 76 77]\n",
      "  [30 31 32 33 34 78 79 80]\n",
      "  [35 36 37 38 39 81 82 83]]\n",
      "\n",
      " [[40 41 42 43 44 84 85 86]\n",
      "  [45 46 47 48 49 87 88 89]\n",
      "  [50 51 52 53 54 90 91 92]\n",
      "  [55 56 57 58 59 93 94 95]]]\n"
     ]
    }
   ],
   "source": [
    "c_2 = np.concatenate((a_1,b_1),axis = 2) ### on concatene selon la deuxieme dimension (~ longueur)\n",
    "print(c_2)"
   ]
  },
  {
   "cell_type": "markdown",
   "metadata": {},
   "source": [
    "!!! Toutes les dimensions a part celle de l'axis doivent correspondre"
   ]
  },
  {
   "cell_type": "markdown",
   "metadata": {},
   "source": [
    "## mot-clé newaxis\n",
    "\n",
    "newaxis permet d'ajouter une dimension a un tableau existant. \n",
    "\n",
    "Par exemple, un vecteur n'a qu'une seule dimension:"
   ]
  },
  {
   "cell_type": "code",
   "execution_count": 9,
   "metadata": {
    "collapsed": false
   },
   "outputs": [
    {
     "name": "stdout",
     "output_type": "stream",
     "text": [
      "[0 1 2 3 4 5 6 7 8 9]\n",
      "(10,)\n"
     ]
    }
   ],
   "source": [
    "a = np.array(np.arange(10),dtype = 'int64')\n",
    "\n",
    "print(a)\n",
    "print(a.shape)"
   ]
  },
  {
   "cell_type": "markdown",
   "metadata": {},
   "source": [
    "Pourtant, si on veut concatener 2 vecteurs pour un faire une matrice a deux colonnes, il faut que passer d'un vecteur  (à une seule dimension), a une matrice a une seule colonne:"
   ]
  },
  {
   "cell_type": "code",
   "execution_count": 10,
   "metadata": {
    "collapsed": false
   },
   "outputs": [
    {
     "name": "stdout",
     "output_type": "stream",
     "text": [
      "[10 11 12 13 14 15 16 17 18 19]\n",
      "(10,)\n"
     ]
    },
    {
     "ename": "IndexError",
     "evalue": "axis 1 out of bounds [0, 1)",
     "output_type": "error",
     "traceback": [
      "\u001b[1;31m---------------------------------------------------------------------------\u001b[0m",
      "\u001b[1;31mIndexError\u001b[0m                                Traceback (most recent call last)",
      "\u001b[1;32m<ipython-input-10-3b7a26b5917d>\u001b[0m in \u001b[0;36m<module>\u001b[1;34m()\u001b[0m\n\u001b[0;32m      3\u001b[0m \u001b[0mprint\u001b[0m\u001b[1;33m(\u001b[0m\u001b[0mb\u001b[0m\u001b[1;33m.\u001b[0m\u001b[0mshape\u001b[0m\u001b[1;33m)\u001b[0m\u001b[1;33m\u001b[0m\u001b[0m\n\u001b[0;32m      4\u001b[0m \u001b[1;33m\u001b[0m\u001b[0m\n\u001b[1;32m----> 5\u001b[1;33m \u001b[0mc_1\u001b[0m \u001b[1;33m=\u001b[0m \u001b[0mnp\u001b[0m\u001b[1;33m.\u001b[0m\u001b[0mconcatenate\u001b[0m\u001b[1;33m(\u001b[0m\u001b[1;33m(\u001b[0m\u001b[0ma\u001b[0m\u001b[1;33m,\u001b[0m\u001b[0mb\u001b[0m\u001b[1;33m)\u001b[0m\u001b[1;33m,\u001b[0m\u001b[0maxis\u001b[0m \u001b[1;33m=\u001b[0m \u001b[1;36m1\u001b[0m\u001b[1;33m)\u001b[0m\u001b[1;33m\u001b[0m\u001b[0m\n\u001b[0m\u001b[0;32m      6\u001b[0m \u001b[0mprint\u001b[0m\u001b[1;33m(\u001b[0m\u001b[0mc_1\u001b[0m\u001b[1;33m)\u001b[0m\u001b[1;33m\u001b[0m\u001b[0m\n\u001b[0;32m      7\u001b[0m \u001b[1;33m\u001b[0m\u001b[0m\n",
      "\u001b[1;31mIndexError\u001b[0m: axis 1 out of bounds [0, 1)"
     ]
    }
   ],
   "source": [
    "b = np.array(np.arange(10,20),dtype = 'int64')\n",
    "print(b)\n",
    "print(b.shape)\n",
    "\n",
    "c_1 = np.concatenate((a,b),axis = 1)\n",
    "print(c_1)\n",
    "\n",
    "\n",
    "### ca marche pour concatener les deux vecteurs dans le sens de la longueur  \n",
    "#c_0 = np.concatenate((a,b),axis = 0)\n",
    "#print(c_0)"
   ]
  },
  {
   "cell_type": "markdown",
   "metadata": {},
   "source": [
    "Pour cela on va utiliser le mot-clé 'newaxis', qui nous permet d'ajouter une nouvelle dimension au tableau"
   ]
  },
  {
   "cell_type": "code",
   "execution_count": 11,
   "metadata": {
    "collapsed": false
   },
   "outputs": [
    {
     "name": "stdout",
     "output_type": "stream",
     "text": [
      "(10, 1)\n"
     ]
    }
   ],
   "source": [
    "a_bis = a[:,np.newaxis] # equivalent a a_bis = a.reshape(a.shape[0],1) = a.reshape(-1,1)\n",
    "\n",
    "# equivalent a a_bis = a[:,None]\n",
    "\n",
    "print(a_bis.shape)"
   ]
  },
  {
   "cell_type": "code",
   "execution_count": 12,
   "metadata": {
    "collapsed": false
   },
   "outputs": [
    {
     "name": "stdout",
     "output_type": "stream",
     "text": [
      "(10, 1)\n"
     ]
    }
   ],
   "source": [
    "b_bis = b[:,np.newaxis]\n",
    "print(b_bis.shape)\n"
   ]
  },
  {
   "cell_type": "code",
   "execution_count": 13,
   "metadata": {
    "collapsed": false
   },
   "outputs": [
    {
     "name": "stdout",
     "output_type": "stream",
     "text": [
      "[[ 0 10]\n",
      " [ 1 11]\n",
      " [ 2 12]\n",
      " [ 3 13]\n",
      " [ 4 14]\n",
      " [ 5 15]\n",
      " [ 6 16]\n",
      " [ 7 17]\n",
      " [ 8 18]\n",
      " [ 9 19]]\n",
      "(10, 2)\n"
     ]
    }
   ],
   "source": [
    "\n",
    "m= np.concatenate((a_bis,b_bis),axis = 1)\n",
    "# l'axis = 1 existe maintenant\n",
    "print(m)\n",
    "print(m.shape)\n"
   ]
  },
  {
   "cell_type": "markdown",
   "metadata": {},
   "source": [
    "## Operations de reduction: mean/std, max,  sum etc.\n",
    "\n",
    "Avec le meme principe de 'axis', il est tres facile de reduire un tableau:\n"
   ]
  },
  {
   "cell_type": "markdown",
   "metadata": {},
   "source": [
    "\n",
    " <img src=\"img/axis.png\">"
   ]
  },
  {
   "cell_type": "markdown",
   "metadata": {},
   "source": [
    "### moyenne \n",
    "\n",
    "fonction numpy.mean\n",
    "\n",
    "#### moyenne des colonnes"
   ]
  },
  {
   "cell_type": "code",
   "execution_count": 14,
   "metadata": {
    "collapsed": false
   },
   "outputs": [
    {
     "name": "stdout",
     "output_type": "stream",
     "text": [
      "[[ 9 18 18 16  0  8 13  5  3  0]\n",
      " [ 4 19  4 17  3 18 13  7 10  6]]\n",
      "[  6.5  18.5  11.   16.5   1.5  13.   13.    6.    6.5   3. ]\n"
     ]
    }
   ],
   "source": [
    "m = np.random.randint(20,size = 20).reshape(2,10)\n",
    "\n",
    "print(m)\n",
    "\n",
    "mean_m = np.mean(m,axis = 0)\n",
    "print(mean_m)\n"
   ]
  },
  {
   "cell_type": "markdown",
   "metadata": {},
   "source": [
    "#### moyenne des lignes"
   ]
  },
  {
   "cell_type": "code",
   "execution_count": 15,
   "metadata": {
    "collapsed": false
   },
   "outputs": [
    {
     "name": "stdout",
     "output_type": "stream",
     "text": [
      "[[ 9 18 18 16  0  8 13  5  3  0]\n",
      " [ 4 19  4 17  3 18 13  7 10  6]]\n",
      "[  9.   10.1]\n"
     ]
    }
   ],
   "source": [
    "mean_m = np.mean(m,axis = 1)\n",
    "print(m)\n",
    "print(mean_m)"
   ]
  },
  {
   "cell_type": "markdown",
   "metadata": {},
   "source": [
    "#### moyenne du tableau\n",
    "\n",
    "axis = None"
   ]
  },
  {
   "cell_type": "code",
   "execution_count": 16,
   "metadata": {
    "collapsed": false
   },
   "outputs": [
    {
     "name": "stdout",
     "output_type": "stream",
     "text": [
      "[[ 9 18 18 16  0  8 13  5  3  0]\n",
      " [ 4 19  4 17  3 18 13  7 10  6]]\n",
      "9.55\n"
     ]
    }
   ],
   "source": [
    "mean_c = np.mean(m,axis = None)\n",
    "print(m)\n",
    "print(mean_c)"
   ]
  },
  {
   "cell_type": "markdown",
   "metadata": {},
   "source": [
    "#### ecart-type\n",
    "\n",
    "fonction numpy.std"
   ]
  },
  {
   "cell_type": "code",
   "execution_count": 17,
   "metadata": {
    "collapsed": false
   },
   "outputs": [
    {
     "name": "stdout",
     "output_type": "stream",
     "text": [
      "[ 6.64830806  5.90677577]\n"
     ]
    }
   ],
   "source": [
    "### ecart type des lignes\n",
    "std_c_1 = np.std(m,axis = 1)\n",
    "\n",
    "print(std_c_1)\n"
   ]
  },
  {
   "cell_type": "code",
   "execution_count": 18,
   "metadata": {
    "collapsed": false
   },
   "outputs": [
    {
     "name": "stdout",
     "output_type": "stream",
     "text": [
      "[18 19]\n"
     ]
    }
   ],
   "source": [
    "### max des lignes\n",
    "max_c_0 = np.max(m,axis = 1)\n",
    "\n",
    "print(max_c_0)"
   ]
  },
  {
   "cell_type": "markdown",
   "metadata": {
    "collapsed": true
   },
   "source": [
    "# Exercice 6.1: potentiel evoqué moyen\n",
    "    \n",
    "- Genérer un signal de 10000 points (Gaussien) // 20 signaux\n",
    "    \n",
    "- on slice autour de 10 trigs aleatoires trigs = np.array([100, 500, 800 ...]) \n",
    "    \n",
    " trigs = np.array([100,500,2000,2500,3500,4000,6000,7500,8600,9000])\n",
    " \n",
    "- chaque segment entre -5 et +10 autour tu trig) \n",
    "    \n",
    "- concatener les données\n",
    "    \n",
    "- calcul de la moyenne + sd des 10 trials\n",
    "    "
   ]
  },
  {
   "cell_type": "markdown",
   "metadata": {},
   "source": [
    "# Solution 6.1 avec slice"
   ]
  },
  {
   "cell_type": "code",
   "execution_count": 1,
   "metadata": {
    "collapsed": false
   },
   "outputs": [
    {
     "name": "stdout",
     "output_type": "stream",
     "text": [
      "(20, 15)\n"
     ]
    }
   ],
   "source": []
  },
  {
   "cell_type": "code",
   "execution_count": null,
   "metadata": {
    "collapsed": true
   },
   "outputs": [],
   "source": [
    "# Solution 6.1 avec concatenate"
   ]
  },
  {
   "cell_type": "code",
   "execution_count": 3,
   "metadata": {
    "collapsed": false
   },
   "outputs": [
    {
     "name": "stdout",
     "output_type": "stream",
     "text": [
      "(20, 15)\n",
      "(20, 15, 1)\n",
      "(20, 15)\n",
      "(20, 15, 1)\n",
      "(20, 15)\n",
      "(20, 15, 1)\n",
      "(20, 15)\n",
      "(20, 15, 1)\n",
      "(20, 15)\n",
      "(20, 15, 1)\n",
      "(20, 15)\n",
      "(20, 15, 1)\n",
      "(20, 15)\n",
      "(20, 15, 1)\n",
      "(20, 15)\n",
      "(20, 15, 1)\n",
      "(20, 15)\n",
      "(20, 15, 1)\n",
      "(20, 15)\n",
      "(20, 15, 1)\n",
      "(15, 10)\n"
     ]
    }
   ],
   "source": []
  },
  {
   "cell_type": "markdown",
   "metadata": {},
   "source": [
    "## Operations de tri\n",
    "\n",
    "### tri des elements\n",
    "\n",
    "!!! Par defaut le tri s'effectue selon la DERNIERE dimension (axis = -1)\n"
   ]
  },
  {
   "cell_type": "code",
   "execution_count": 20,
   "metadata": {
    "collapsed": false
   },
   "outputs": [
    {
     "name": "stdout",
     "output_type": "stream",
     "text": [
      "[101 169 189 179 154 108 146 191 174 121]\n",
      "[101 108 121 146 154 169 174 179 189 191]\n"
     ]
    }
   ],
   "source": [
    "#tri sur le vecteur\n",
    "\n",
    "c = np.random.randint(low = 100, high = 200, size = 10)\n",
    "print(c)\n",
    "\n",
    "sorted_c = np.sort(c)\n",
    "\n",
    "print(sorted_c)"
   ]
  },
  {
   "cell_type": "code",
   "execution_count": 21,
   "metadata": {
    "collapsed": false
   },
   "outputs": [
    {
     "name": "stdout",
     "output_type": "stream",
     "text": [
      "[[134 174 142 134 190]\n",
      " [184 182 118 135 116]\n",
      " [137 184 103 188 108]]\n",
      "\n",
      "[[134 174 103 134 108]\n",
      " [137 182 118 135 116]\n",
      " [184 184 142 188 190]]\n",
      "\n",
      "[[134 134 142 174 190]\n",
      " [116 118 135 182 184]\n",
      " [103 108 137 184 188]]\n"
     ]
    }
   ],
   "source": [
    "### tri sur tout le tableau\n",
    "\n",
    "c = np.random.randint(low = 100, high = 200, size = 15).reshape(3,5)\n",
    "print(c)\n",
    "print()\n",
    "sorted_c_0 = np.sort(c,axis = 0)\n",
    "print(sorted_c_0)\n",
    "print()\n",
    "sorted_c_1 = np.sort(c,axis = 1)\n",
    "print(sorted_c_1)"
   ]
  },
  {
   "cell_type": "markdown",
   "metadata": {},
   "source": [
    "### ordre des elements"
   ]
  },
  {
   "cell_type": "code",
   "execution_count": 22,
   "metadata": {
    "collapsed": false
   },
   "outputs": [
    {
     "name": "stdout",
     "output_type": "stream",
     "text": [
      "[12 22  9  4]\n",
      "['a' 'b' 'c' 'd']\n",
      "\n",
      "[3 2 0 1]\n",
      "['d' 'c' 'a' 'b']\n"
     ]
    }
   ],
   "source": [
    "# autre ex argsort sur une dim\n",
    "#un vecteur trie un autre vecteur\n",
    "\n",
    "\n",
    "a = np.array([12,22,9,4])\n",
    "b = np.array(['a','b','c','d'])\n",
    "print(a)\n",
    "print(b)\n",
    "print()\n",
    "order = np.argsort(a)\n",
    "\n",
    "print(order)\n",
    "print(b[order])\n"
   ]
  },
  {
   "cell_type": "markdown",
   "metadata": {},
   "source": [
    "# Exercice 6.2: max et sort signaux\n",
    "\n",
    " * TODO idem exo 6.1 mais sur le max\n",
    " \n",
    " Exercice: potentiel evoqué\n",
    "    \n",
    "    genere un signal de 10000 points (Gaussien) // 20 signaux\n",
    "    \n",
    "    on slice autour de 10 trigs aleatoires trigs = np.array([100, 500, 800 ...]) \n",
    "    \n",
    "    (donnés; -5 +10 points) \n",
    "    \n",
    "    concat\n",
    "    \n",
    "    valeur du max pour chaque signal\n",
    "    max a quel point\n",
    "    \n",
    "    sort des signaux en fonction du max de chaque signal\n",
    "    \n"
   ]
  },
  {
   "cell_type": "markdown",
   "metadata": {
    "collapsed": true
   },
   "source": [
    "# Solution 6.2"
   ]
  },
  {
   "cell_type": "code",
   "execution_count": 23,
   "metadata": {
    "collapsed": false
   },
   "outputs": [
    {
     "name": "stdout",
     "output_type": "stream",
     "text": [
      "(16, 10)\n",
      "[ 0.96663661  0.99033566  0.90652996  0.77750651  0.98184902  0.96135536\n",
      "  0.87628395  0.94324391  0.87239027  0.87834144]\n",
      "[3 8 6 9 2 7 5 0 4 1]\n",
      "[ 0.77750651  0.87239027  0.87628395  0.87834144  0.90652996  0.94324391\n",
      "  0.96135536  0.96663661  0.98184902  0.99033566]\n",
      "[[ 0.52184063  0.47727383  0.75679904  0.13225198  0.29686752  0.12609604\n",
      "   0.41036775  0.38251225  0.01124667  0.16132373  0.55079     0.77750651\n",
      "   0.02202975  0.29341197  0.6833273   0.52516992]\n",
      " [ 0.73655989  0.19256788  0.42401006  0.85303853  0.52871389  0.30926768\n",
      "   0.20663582  0.12598483  0.2145043   0.15092641  0.06680364  0.24727239\n",
      "   0.05233154  0.31052316  0.87239027  0.77029394]\n",
      " [ 0.64067476  0.81037123  0.16104653  0.83254234  0.87628395  0.44726469\n",
      "   0.30939305  0.63545292  0.40860568  0.8395242   0.55058497  0.43736233\n",
      "   0.49551225  0.19456949  0.29115332  0.50945142]\n",
      " [ 0.4752389   0.82138466  0.80457086  0.42462939  0.81292481  0.31031535\n",
      "   0.41377764  0.57272992  0.07311042  0.00988049  0.35581663  0.05291164\n",
      "   0.56663574  0.87834144  0.62443556  0.43570967]\n",
      " [ 0.35421616  0.77430972  0.50093612  0.68888494  0.34285635  0.90652996\n",
      "   0.36516167  0.42995361  0.70317374  0.27779838  0.69285647  0.52902978\n",
      "   0.39528671  0.65561031  0.69055509  0.2772854 ]\n",
      " [ 0.75319528  0.18526824  0.73521772  0.8328392   0.93815753  0.06350221\n",
      "   0.016414    0.75618183  0.94324391  0.67665657  0.54744169  0.1886109\n",
      "   0.39131385  0.93898988  0.27688633  0.17237977]\n",
      " [ 0.24184186  0.08005925  0.70179431  0.85070337  0.79775733  0.17377008\n",
      "   0.31762516  0.09756328  0.91485193  0.48819753  0.6721952   0.70031367\n",
      "   0.84049061  0.96135536  0.4527896   0.84220509]\n",
      " [ 0.40977734  0.87506033  0.44915396  0.96663661  0.74915608  0.08497313\n",
      "   0.4885445   0.75893327  0.6103572   0.74223239  0.13153492  0.64402353\n",
      "   0.49047918  0.2435236   0.48407376  0.37227816]\n",
      " [ 0.39777643  0.55555022  0.39739762  0.69866911  0.98184902  0.67673917\n",
      "   0.82194966  0.14446244  0.9376618   0.89155228  0.44417272  0.03320513\n",
      "   0.90608387  0.26606098  0.64288795  0.55919659]\n",
      " [ 0.65431741  0.01560938  0.68305804  0.99033566  0.14285264  0.87055241\n",
      "   0.2860005   0.20463641  0.54475406  0.7255377   0.79812708  0.91960199\n",
      "   0.70732056  0.46176237  0.8409454   0.29322996]]\n"
     ]
    }
   ],
   "source": []
  },
  {
   "cell_type": "markdown",
   "metadata": {},
   "source": [
    "## Matrix vs. ndarray\n",
    "\n",
    "Dans numpy, et contrairement à Matlab, les operations par defaut se font sur les arrays, et pas sur les matrices.\n",
    "\n",
    "Il existe un type specialisé pour les matrices, qui sont des tableaux a deux dimensions, et qui disposent d'operations propres aux matrices (inversion, produit, etc.)\n",
    "\n",
    "### Produit vs. produit matriciel\n",
    "\n",
    "Par default pour les ndarray, le produit est le produit element par element:"
   ]
  },
  {
   "cell_type": "code",
   "execution_count": 24,
   "metadata": {
    "collapsed": false
   },
   "outputs": [
    {
     "name": "stdout",
     "output_type": "stream",
     "text": [
      "[[ 3.  3.  3.  3.]\n",
      " [ 3.  3.  3.  3.]\n",
      " [ 3.  3.  3.  3.]\n",
      " [ 3.  3.  3.  3.]]\n",
      "[[ 2.  2.  2.  2.]\n",
      " [ 2.  2.  2.  2.]\n",
      " [ 2.  2.  2.  2.]\n",
      " [ 2.  2.  2.  2.]]\n"
     ]
    }
   ],
   "source": [
    "a = np.ones(shape = (4,4))*3\n",
    "b = np.ones(shape = (4,4))*2\n",
    "\n",
    "print(a)\n",
    "print(b)"
   ]
  },
  {
   "cell_type": "code",
   "execution_count": 25,
   "metadata": {
    "collapsed": false
   },
   "outputs": [
    {
     "name": "stdout",
     "output_type": "stream",
     "text": [
      "[[ 6.  6.  6.  6.]\n",
      " [ 6.  6.  6.  6.]\n",
      " [ 6.  6.  6.  6.]\n",
      " [ 6.  6.  6.  6.]]\n"
     ]
    }
   ],
   "source": [
    "### produit de chaque element\n",
    "\n",
    "c = a*b \n",
    "print(c)\n",
    "\n"
   ]
  },
  {
   "cell_type": "code",
   "execution_count": 26,
   "metadata": {
    "collapsed": false
   },
   "outputs": [
    {
     "name": "stdout",
     "output_type": "stream",
     "text": [
      "<class 'numpy.matrixlib.defmatrix.matrix'>\n"
     ]
    }
   ],
   "source": [
    "### produit matriciel (produit scalaire de chaque ligne de a avec chaque colonne de b)\n",
    "mat_a = np.matrix(a)\n",
    "mat_b = np.matrix(b)\n",
    "\n",
    "print(type(mat_a))\n"
   ]
  },
  {
   "cell_type": "code",
   "execution_count": 27,
   "metadata": {
    "collapsed": false
   },
   "outputs": [
    {
     "name": "stdout",
     "output_type": "stream",
     "text": [
      "[[ 24.  24.  24.  24.]\n",
      " [ 24.  24.  24.  24.]\n",
      " [ 24.  24.  24.  24.]\n",
      " [ 24.  24.  24.  24.]]\n",
      "<class 'numpy.matrixlib.defmatrix.matrix'>\n"
     ]
    }
   ],
   "source": [
    "\n",
    "mat_c = mat_a*mat_b\n",
    "print(mat_c)\n",
    "print(type(mat_c))"
   ]
  },
  {
   "cell_type": "markdown",
   "metadata": {},
   "source": [
    "Il est cependant possible de travailler directement en operation matricielle SANS passer par l'objet np.matrix"
   ]
  },
  {
   "cell_type": "code",
   "execution_count": 28,
   "metadata": {
    "collapsed": false
   },
   "outputs": [
    {
     "name": "stdout",
     "output_type": "stream",
     "text": [
      "[[ 24.  24.  24.  24.]\n",
      " [ 24.  24.  24.  24.]\n",
      " [ 24.  24.  24.  24.]\n",
      " [ 24.  24.  24.  24.]]\n",
      "<class 'numpy.ndarray'>\n"
     ]
    }
   ],
   "source": [
    "c_dot = np.dot(a,b)\n",
    "print(c_dot)\n",
    "print(type(c_dot))"
   ]
  },
  {
   "cell_type": "markdown",
   "metadata": {
    "collapsed": true
   },
   "source": [
    "### inverse vs. inversion\n"
   ]
  },
  {
   "cell_type": "code",
   "execution_count": 29,
   "metadata": {
    "collapsed": false
   },
   "outputs": [
    {
     "name": "stdout",
     "output_type": "stream",
     "text": [
      "[[ 3.  5.  4.  2.]\n",
      " [ 1.  1.  3.  1.]\n",
      " [ 3.  2.  3.  1.]\n",
      " [ 2.  2.  5.  5.]]\n"
     ]
    }
   ],
   "source": [
    "mat = np.random.randint(1,5+1, size=(4,4)).astype(\"float64\")\n",
    "\n",
    "print(mat)\n"
   ]
  },
  {
   "cell_type": "code",
   "execution_count": 30,
   "metadata": {
    "collapsed": false
   },
   "outputs": [
    {
     "name": "stdout",
     "output_type": "stream",
     "text": [
      "[[ 0.33333333  0.2         0.25        0.5       ]\n",
      " [ 1.          1.          0.33333333  1.        ]\n",
      " [ 0.33333333  0.5         0.33333333  1.        ]\n",
      " [ 0.5         0.5         0.2         0.2       ]]\n"
     ]
    }
   ],
   "source": [
    "## on obtient l'inverse de chaque element\n",
    "inverse_mat = 1/mat\n",
    "\n",
    "print(inverse_mat)\n",
    "\n",
    "### !!! en matlab c'est l'inverse (/.) a la place de (/)"
   ]
  },
  {
   "cell_type": "code",
   "execution_count": 31,
   "metadata": {
    "collapsed": false
   },
   "outputs": [
    {
     "name": "stdout",
     "output_type": "stream",
     "text": [
      "[[-0.17857143 -0.46428571  0.64285714  0.03571429]\n",
      " [ 0.35714286 -0.07142857 -0.28571429 -0.07142857]\n",
      " [-0.05357143  0.66071429 -0.10714286 -0.08928571]\n",
      " [-0.01785714 -0.44642857 -0.03571429  0.30357143]]\n"
     ]
    }
   ],
   "source": [
    "## on obtient la matrice inverse\n",
    "inv_mat = np.linalg.inv(mat)\n",
    "\n",
    "print(inv_mat)"
   ]
  },
  {
   "cell_type": "markdown",
   "metadata": {},
   "source": [
    "## Sauvegarde et lecture avec numpy\n",
    "\n",
    "### format texte\n",
    "\n",
    "numpy.savetxt\n",
    "\n",
    "!!!  Attention à l'ordre: fichier et ensuite ndarray\n"
   ]
  },
  {
   "cell_type": "code",
   "execution_count": 32,
   "metadata": {
    "collapsed": false
   },
   "outputs": [],
   "source": [
    "filename = \"mat.txt\"\n",
    "np.savetxt(filename,mat, fmt = \"%d\")"
   ]
  },
  {
   "cell_type": "markdown",
   "metadata": {},
   "source": [
    "\n",
    "fmt est le format d'ecriture: %d pour un entier, %f pour un float (nombre a virgule), %s pour une chaine de carateres\n"
   ]
  },
  {
   "cell_type": "code",
   "execution_count": 33,
   "metadata": {
    "collapsed": false
   },
   "outputs": [],
   "source": [
    "\n",
    "##on peut aussi sauver le tableau d'entier sous la forme de nombres a virgule\n",
    "filename = \"mat.txt\"\n",
    "\n",
    "np.savetxt(filename,mat, fmt = \"%f\")"
   ]
  },
  {
   "cell_type": "code",
   "execution_count": 34,
   "metadata": {
    "collapsed": true
   },
   "outputs": [],
   "source": [
    "## avancé, on peut aussi spécifier le nombre de chiffres apres la virgule:\n",
    "filename2 = \"mat.txt\"\n",
    "np.savetxt(filename2,inv_mat, fmt = \"%.3f\")"
   ]
  },
  {
   "cell_type": "code",
   "execution_count": 35,
   "metadata": {
    "collapsed": false
   },
   "outputs": [
    {
     "name": "stdout",
     "output_type": "stream",
     "text": [
      "[[-0.179 -0.464  0.643  0.036]\n",
      " [ 0.357 -0.071 -0.286 -0.071]\n",
      " [-0.054  0.661 -0.107 -0.089]\n",
      " [-0.018 -0.446 -0.036  0.304]]\n"
     ]
    }
   ],
   "source": [
    "### Relecture\n",
    "inv_mat = np.loadtxt(filename2)\n",
    "\n",
    "print(inv_mat)"
   ]
  },
  {
   "cell_type": "markdown",
   "metadata": {},
   "source": [
    "!!! on ne specifie pas le format avec loadmat. Il a y de fortes chances que l'on ait a le modifier avec:\n",
    "np.array(inv_mat,dtype = 'float') par exemple"
   ]
  },
  {
   "cell_type": "markdown",
   "metadata": {},
   "source": [
    "### format numpy\n",
    "\n",
    "numpy dispose directement d'un format compressé, non lisible dans un editeur de texte, mais permettant d'etre transmis et lu facilement sur un autre systeme.\n",
    "\n",
    "L'extension de ces fichiers compressé est \".npy\"\n",
    "\n"
   ]
  },
  {
   "cell_type": "code",
   "execution_count": 36,
   "metadata": {
    "collapsed": false
   },
   "outputs": [
    {
     "name": "stdout",
     "output_type": "stream",
     "text": [
      "[[ 0.  0.  0. ...,  0.  0.  0.]\n",
      " [ 0.  0.  0. ...,  0.  0.  0.]\n",
      " [ 0.  0.  0. ...,  0.  0.  0.]\n",
      " ..., \n",
      " [ 0.  0.  0. ...,  0.  0.  0.]\n",
      " [ 0.  0.  0. ...,  0.  0.  0.]\n",
      " [ 0.  0.  0. ...,  0.  0.  0.]]\n"
     ]
    }
   ],
   "source": [
    "bigmat = np.zeros(shape = (1000,1000), dtype = \"float64\")\n",
    "\n",
    "print(bigmat)"
   ]
  },
  {
   "cell_type": "code",
   "execution_count": 37,
   "metadata": {
    "collapsed": false
   },
   "outputs": [],
   "source": [
    "#bigmat_txtfile = os.path.abspath(\"bigmat.txt\")\n",
    "\n",
    "#np.savetxt(bigmat_txtfile,bigmat,fmt = \"%d\")\n",
    "\n",
    "### bigmat.txt prend 2.0Mo sur le disque dur"
   ]
  },
  {
   "cell_type": "code",
   "execution_count": 38,
   "metadata": {
    "collapsed": true
   },
   "outputs": [],
   "source": [
    "#bigmat_npyfile = os.path.abspath(\"bigmat.npy\")\n",
    "\n",
    "#np.save(bigmat_npyfile,bigmat)\n",
    "\n",
    "### 8.0Mo ? Heu y a  un probleme..."
   ]
  },
  {
   "cell_type": "code",
   "execution_count": 39,
   "metadata": {
    "collapsed": false
   },
   "outputs": [],
   "source": [
    "bigmat_f = np.array(bigmat,dtype = 'float')\n",
    "\n",
    "filename3 =\"bigmat_f.txt\"\n",
    "\n",
    "np.savetxt(filename3,bigmat_f,fmt = \"%f\")\n",
    "\n",
    "### bigmat_f.txt 9.0Mo"
   ]
  },
  {
   "cell_type": "code",
   "execution_count": 40,
   "metadata": {
    "collapsed": false
   },
   "outputs": [],
   "source": [
    "filename3 =\"bigmat_f.npy\"\n",
    "\n",
    "np.save(filename3,bigmat_f)\n",
    "\n",
    "### bigmat_f.npy 8.0Mo"
   ]
  },
  {
   "cell_type": "code",
   "execution_count": 41,
   "metadata": {
    "collapsed": false
   },
   "outputs": [
    {
     "name": "stdout",
     "output_type": "stream",
     "text": [
      "[[ 0.  0.  0. ...,  0.  0.  0.]\n",
      " [ 0.  0.  0. ...,  0.  0.  0.]\n",
      " [ 0.  0.  0. ...,  0.  0.  0.]\n",
      " ..., \n",
      " [ 0.  0.  0. ...,  0.  0.  0.]\n",
      " [ 0.  0.  0. ...,  0.  0.  0.]\n",
      " [ 0.  0.  0. ...,  0.  0.  0.]]\n"
     ]
    }
   ],
   "source": [
    "### relecture avec load\n",
    "\n",
    "\n",
    "bigmat_f = np.load(filename3)\n",
    "\n",
    "print(bigmat_f)"
   ]
  },
  {
   "cell_type": "markdown",
   "metadata": {},
   "source": [
    "!!! là encore, on ne spécifie pas le type de données en lecture, donc il y a de fortes chances que l'on ait à forcer le dtype du tableau"
   ]
  },
  {
   "cell_type": "code",
   "execution_count": 42,
   "metadata": {
    "collapsed": false
   },
   "outputs": [
    {
     "name": "stdout",
     "output_type": "stream",
     "text": [
      "[[0 0 0 ..., 0 0 0]\n",
      " [0 0 0 ..., 0 0 0]\n",
      " [0 0 0 ..., 0 0 0]\n",
      " ..., \n",
      " [0 0 0 ..., 0 0 0]\n",
      " [0 0 0 ..., 0 0 0]\n",
      " [0 0 0 ..., 0 0 0]]\n"
     ]
    }
   ],
   "source": [
    "bigmat = np.array(bigmat_f,dtype = 'int')\n",
    "\n",
    "print(bigmat)"
   ]
  },
  {
   "cell_type": "markdown",
   "metadata": {
    "collapsed": true
   },
   "source": [
    "# Exercice 6.3\n",
    "genere  10 fichiers avec du bruit + un offset\n",
    "\n",
    "relire les data a partir des noms de fichiers puis moyenne sd (concat) -> n'importe quoi\n",
    "\n",
    "relire les data a partir des noms de fichiers puis (blanchir) zscore = (- mean) / std\n",
    "\n",
    "\n"
   ]
  },
  {
   "cell_type": "markdown",
   "metadata": {},
   "source": [
    "# Solution 6.3"
   ]
  },
  {
   "cell_type": "code",
   "execution_count": 43,
   "metadata": {
    "collapsed": false
   },
   "outputs": [
    {
     "name": "stdout",
     "output_type": "stream",
     "text": [
      "[ 0.1608649   0.74180414  0.9806126   0.40276978  0.49832148  0.19339628\n",
      "  0.06812696  0.15127097  0.75125833  0.71073522  0.86230774  0.57613413\n",
      "  0.4477039   0.03866503  0.19853554  0.90462502  0.84501723  0.2271282\n",
      "  0.70420645  0.58890528]\n",
      "[ 1.2095509   1.22683002  1.93327797  1.11010954  1.7138391   1.02084147\n",
      "  1.75261604  1.30044135  1.60496083  1.95015451  1.01996637  1.01792596\n",
      "  1.45987171  1.67858597  1.74133838  1.88057927  1.75348405  1.51514747\n",
      "  1.19988553  1.72514986]\n",
      "[ 2.60953934  2.85759628  2.85653174  2.20971104  2.28819102  2.09864384\n",
      "  2.46030283  2.85411188  2.04102911  2.70437951  2.66522141  2.65362784\n",
      "  2.35263234  2.28061997  2.37696323  2.40313139  2.04253738  2.72698272\n",
      "  2.84411608  2.71597827]\n",
      "[ 3.84054571  3.60664102  3.74003357  3.77766046  3.07032963  3.11739841\n",
      "  3.02580671  3.66855451  3.74316713  3.60584049  3.09902897  3.43141443\n",
      "  3.62407126  3.1559706   3.2957016   3.6239931   3.19266486  3.66555677\n",
      "  3.56022416  3.80132024]\n",
      "[ 4.42281374  4.01375515  4.72001112  4.45587926  4.73959278  4.69396093\n",
      "  4.86825195  4.94577436  4.34613428  4.21746653  4.30283833  4.01445391\n",
      "  4.53639472  4.26860741  4.98174291  4.60128868  4.22278156  4.98242019\n",
      "  4.18753865  4.89350741]\n",
      "[ 5.07935598  5.71473794  5.33554061  5.37220741  5.57464654  5.79499642\n",
      "  5.51940916  5.06187064  5.80210126  5.47178851  5.77683241  5.33771856\n",
      "  5.57332068  5.16487783  5.12778247  5.85971998  5.01788631  5.65501287\n",
      "  5.26023152  5.51072409]\n",
      "[ 6.64774272  6.91912527  6.69554193  6.97342921  6.56575455  6.80159084\n",
      "  6.9040622   6.50966592  6.58518977  6.77539674  6.23670408  6.86023808\n",
      "  6.53922625  6.39818072  6.91860856  6.75676881  6.87567251  6.39593076\n",
      "  6.59927797  6.28071392]\n",
      "[ 7.65684029  7.3224179   7.69013616  7.31097455  7.88429224  7.8569698\n",
      "  7.97582698  7.05461728  7.2363718   7.03344854  7.88046792  7.45391097\n",
      "  7.47059751  7.9304279   7.20661935  7.23935846  7.33353152  7.24067846\n",
      "  7.42480371  7.41488182]\n",
      "[ 8.23417971  8.55051269  8.72804247  8.69064308  8.39429392  8.2019582\n",
      "  8.38718088  8.57248078  8.11294737  8.62268324  8.42292739  8.01613778\n",
      "  8.66290591  8.88946463  8.08518548  8.87566075  8.49345548  8.18512291\n",
      "  8.78381796  8.48415393]\n",
      "[ 9.33625603  9.81530464  9.45949634  9.41462646  9.23871342  9.21567277\n",
      "  9.76805003  9.59548268  9.64799908  9.38211945  9.67115377  9.36783864\n",
      "  9.98961208  9.933007    9.75998112  9.88467411  9.10093693  9.51941188\n",
      "  9.78323232  9.94030788]\n",
      "(20, 10)\n",
      "[ 4.91976893  5.0768725   5.21392245  4.97180108  4.99679747  4.8995429\n",
      "  5.07296337  4.97142704  4.9871159   5.04740128  4.99374484  4.87294003\n",
      "  5.06563364  4.9738407   4.96924586  5.20297996  4.88779678  5.01133922\n",
      "  5.03473343  5.13556427]\n",
      "5.01527158295\n",
      "[-0.34004607  0.29115428  0.68127835 -0.09929932 -0.11350275 -0.40209624\n",
      "  0.20883836 -0.16755484 -0.11072488  0.12329114 -0.10262785 -0.4721624\n",
      "  0.18834803 -0.15974836 -0.17081352  0.68564208 -0.46547994 -0.0530444\n",
      "  0.09712344  0.38142487]\n",
      "-3.76365605348e-16\n"
     ]
    }
   ],
   "source": [
    "\n",
    "\n"
   ]
  },
  {
   "cell_type": "code",
   "execution_count": null,
   "metadata": {
    "collapsed": true
   },
   "outputs": [],
   "source": []
  },
  {
   "cell_type": "code",
   "execution_count": null,
   "metadata": {
    "collapsed": true
   },
   "outputs": [],
   "source": []
  },
  {
   "cell_type": "code",
   "execution_count": null,
   "metadata": {
    "collapsed": true
   },
   "outputs": [],
   "source": []
  }
 ],
 "metadata": {
  "kernelspec": {
   "display_name": "Python 3",
   "language": "python",
   "name": "python3"
  },
  "language_info": {
   "codemirror_mode": {
    "name": "ipython",
    "version": 3
   },
   "file_extension": ".py",
   "mimetype": "text/x-python",
   "name": "python",
   "nbconvert_exporter": "python",
   "pygments_lexer": "ipython3",
   "version": "3.5.1"
  }
 },
 "nbformat": 4,
 "nbformat_minor": 0
}
