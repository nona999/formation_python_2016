{
 "cells": [
  {
   "cell_type": "markdown",
   "metadata": {},
   "source": [
    "# Sequence 9 : jupyter notebook"
   ]
  },
  {
   "cell_type": "markdown",
   "metadata": {},
   "source": [
    "## Définitons"
   ]
  },
  {
   "cell_type": "markdown",
   "metadata": {
    "collapsed": true
   },
   "source": [
    "<img src=\"./img/sequence9_ipython_logo.png\">"
   ]
  },
  {
   "cell_type": "markdown",
   "metadata": {},
   "source": [
    "IPython est un **terminal interactif**, ou shell, pour le langage de programmation Python qui propose des fonctionnalités telles que l'introspection, une syntaxe additionnelle, la complétion et un historique riche.\n",
    "\n",
    "IPython lance un serveur (\"kernel\") qui recoit les instructions à exécuter pouvant venir d'un ou plusieurs clients, local ou distant, puis leur communique les résultats. En outre, son architecture supporte la parrallélisation interactive et collaborative des calculs.\n",
    "\n",
    "Puis IPython propose le **notebook**, du python dans du web.\n",
    "\n",
    "En 2014, le projet s'ettend à d'autres languages et devient **jupyter**. (pour Julia, Python, R,...)\n",
    "\n",
    "Cet outil réponds de manière simple aux besoins de  la **Science reproductible** (je donnes mes idées/equations/code/figures)"
   ]
  },
  {
   "cell_type": "markdown",
   "metadata": {},
   "source": [
    "<img src=\"./img/sequence9_ipython_notebook_ex.png\">"
   ]
  },
  {
   "cell_type": "markdown",
   "metadata": {},
   "source": [
    "**Ipython notebook / Jupiter notebook** : application web interractive permettant d'alier texte, code, formules, courbes, images et autres  médias, particuliairement adaptée aux besoins scientifiques, que l'on peut partager facilement.\n",
    "\n"
   ]
  },
  {
   "cell_type": "markdown",
   "metadata": {},
   "source": [
    "doc : \n",
    "    http://ipython.readthedocs.org/en/stable/    et    http://jupyter-notebook.readthedocs.org/en/latest/\n",
    "    "
   ]
  },
  {
   "cell_type": "markdown",
   "metadata": {},
   "source": [
    "## Exemples :"
   ]
  },
  {
   "cell_type": "raw",
   "metadata": {},
   "source": [
    "lancement, new notebook et visu rapide interface - titre niveau1, titre niveau2, cellule texte, image, video, code, figure. "
   ]
  },
  {
   "cell_type": "markdown",
   "metadata": {},
   "source": [
    "### 1. Type des cellules :"
   ]
  },
  {
   "cell_type": "markdown",
   "metadata": {},
   "source": [
    "Je suis une cellule de texte, de type \"Markdown\""
   ]
  },
  {
   "cell_type": "raw",
   "metadata": {},
   "source": [
    "Je suis une cellule de texte, de type \"Raw NBConvert\""
   ]
  },
  {
   "cell_type": "code",
   "execution_count": 1,
   "metadata": {
    "collapsed": false
   },
   "outputs": [],
   "source": [
    "#Je suis une cellule de code, de type \"Code\"\n",
    "import numpy as np"
   ]
  },
  {
   "cell_type": "markdown",
   "metadata": {},
   "source": [
    "# Je suis un gros titre (type Heading ou Markdown + #)"
   ]
  },
  {
   "cell_type": "markdown",
   "metadata": {},
   "source": [
    "## Je suis un moyen titre"
   ]
  },
  {
   "cell_type": "markdown",
   "metadata": {},
   "source": [
    "### Je suis un petit titre"
   ]
  },
  {
   "cell_type": "markdown",
   "metadata": {},
   "source": [
    "#### Je suis un mini titre"
   ]
  },
  {
   "cell_type": "markdown",
   "metadata": {},
   "source": [
    "### 2. Cellules de type texte : mise en page"
   ]
  },
  {
   "cell_type": "markdown",
   "metadata": {},
   "source": [
    "**texte en gras** \n",
    "*texte en italique*\n",
    "<br/> \n",
    "<strong>texte en gras</strong>\n",
    "<br/> \n",
    "<b>texte en gras</b>\n",
    "<br/> \n",
    "<i>texte en italique</i>"
   ]
  },
  {
   "cell_type": "markdown",
   "metadata": {},
   "source": [
    "Hello,\n",
    "> Je suis un blockquote.\n",
    ">\n",
    "> Et moi, le segond paragraphe du blockquote.\n",
    ">\n",
    "> ## Je suis un titre de niveau 2 de blockquote"
   ]
  },
  {
   "cell_type": "markdown",
   "metadata": {},
   "source": [
    "Une liste :\n",
    "*   du pain\n",
    "*   du vin\n",
    "*   du chocolat\n",
    "\n",
    "même chose que :\n",
    "-   du pain\n",
    "-   du vin\n",
    "-   du chocolat\n",
    "\n",
    "liste ordonnée :\n",
    "1.  Rouge\n",
    "2.  Vert\n",
    "3.  Bleu"
   ]
  },
  {
   "cell_type": "markdown",
   "metadata": {},
   "source": [
    "### 3. Insertion d'élements"
   ]
  },
  {
   "cell_type": "markdown",
   "metadata": {},
   "source": [
    "une belle image, inserée en mode texte :\n",
    "<img src=\"./img/sequence9_image_ex.jpeg\">"
   ]
  },
  {
   "cell_type": "markdown",
   "metadata": {},
   "source": [
    "La même, inserée en mode code :"
   ]
  },
  {
   "cell_type": "code",
   "execution_count": 2,
   "metadata": {
    "collapsed": false
   },
   "outputs": [
    {
     "data": {
      "image/jpeg": "[encoded data removed]",
      "text/plain": [
       "<IPython.core.display.Image object>"
      ]
     },
     "execution_count": 2,
     "metadata": {},
     "output_type": "execute_result"
    }
   ],
   "source": [
    "from IPython.display import Image\n",
    "Image(filename='./img/sequence9_image_ex.jpeg')"
   ]
  },
  {
   "cell_type": "code",
   "execution_count": 4,
   "metadata": {
    "collapsed": false
   },
   "outputs": [
    {
     "data": {
      "text/plain": [
       "[<matplotlib.lines.Line2D at 0x80280f0>]"
      ]
     },
     "execution_count": 4,
     "metadata": {},
     "output_type": "execute_result"
    },
    {
     "data": {
      "image/png": "[encoded data removed]",
      "text/plain": [
       "<matplotlib.figure.Figure at 0x7fe3978>"
      ]
     },
     "metadata": {},
     "output_type": "display_data"
    }
   ],
   "source": [
    "import matplotlib.pyplot as plt\n",
    "import numpy as np\n",
    "a = np.array([3., 5.6,3.3, 4.5,])\n",
    "plt.plot(a)"
   ]
  },
  {
   "cell_type": "markdown",
   "metadata": {},
   "source": [
    "Deux petites formules toutes simples :\n",
    "\n",
    "\n",
    "$e^{i\\pi} + 1 = 0$"
   ]
  },
  {
   "cell_type": "markdown",
   "metadata": {},
   "source": [
    "$$e^{i\\pi} + 1 = 0$$\n",
    "$$e^x=\\sum_{i=0}^\\infty \\frac{1}{i!}x^i$$"
   ]
  },
  {
   "cell_type": "markdown",
   "metadata": {},
   "source": [
    "Ceci est un [exemple de lien]( http://ipython.readthedocs.org/en/stable/ )."
   ]
  },
  {
   "cell_type": "raw",
   "metadata": {},
   "source": [
    "exports : pdf, latex, slides !"
   ]
  },
  {
   "cell_type": "markdown",
   "metadata": {},
   "source": [
    "|Ceci|est|\n",
    "|------|------|\n",
    "|un|tableau|"
   ]
  },
  {
   "cell_type": "markdown",
   "metadata": {
    "collapsed": false
   },
   "source": [
    "<video controls src=\"./img/sequence9_video.mp4\" />"
   ]
  },
  {
   "cell_type": "code",
   "execution_count": null,
   "metadata": {
    "collapsed": true
   },
   "outputs": [],
   "source": []
  }
 ],
 "metadata": {
  "celltoolbar": "Raw Cell Format",
  "kernelspec": {
   "display_name": "Python 3",
   "language": "python",
   "name": "python3"
  },
  "language_info": {
   "codemirror_mode": {
    "name": "ipython",
    "version": 3
   },
   "file_extension": ".py",
   "mimetype": "text/x-python",
   "name": "python",
   "nbconvert_exporter": "python",
   "pygments_lexer": "ipython3",
   "version": "3.5.1"
  }
 },
 "nbformat": 4,
 "nbformat_minor": 0
}
